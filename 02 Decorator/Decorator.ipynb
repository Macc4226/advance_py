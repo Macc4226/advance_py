{
 "cells": [
  {
   "cell_type": "markdown",
   "id": "fe122936",
   "metadata": {},
   "source": [
    "# Decorators \n",
    "To modify the behaviour of Functions\n"
   ]
  },
  {
   "cell_type": "code",
   "execution_count": 3,
   "id": "88cd35f2",
   "metadata": {},
   "outputs": [],
   "source": [
    "def welcome(func):\n",
    "    def wrapper(*args, **kwargs):\n",
    "        print(\"Welcome User\")\n",
    "        res = func(*args, **kwargs)\n",
    "        print(f\"Function Results : {res} \")\n",
    "        print(\"Thank You\")\n",
    "        return res\n",
    "\n",
    "    return wrapper"
   ]
  },
  {
   "cell_type": "markdown",
   "id": "5e221146",
   "metadata": {},
   "source": [
    "# How to apply a Decorator\n",
    "@decorator name"
   ]
  },
  {
   "cell_type": "code",
   "execution_count": 4,
   "id": "13036649",
   "metadata": {},
   "outputs": [],
   "source": [
    "@welcome\n",
    "def simple_intrest(p: float, n: float, r: float) -> tuple:\n",
    "    i = (p * n * r) / 100\n",
    "    a = p + i\n",
    "    return i, a"
   ]
  },
  {
   "cell_type": "code",
   "execution_count": 5,
   "id": "fe6af02f",
   "metadata": {},
   "outputs": [
    {
     "name": "stdout",
     "output_type": "stream",
     "text": [
      "Welcome User\n",
      "Function Results : (10.2, 60.2) \n",
      "Thank You\n"
     ]
    }
   ],
   "source": [
    "i1, a1 = simple_intrest(p=50 - 000, n=3, r=6.8)"
   ]
  },
  {
   "cell_type": "code",
   "execution_count": 6,
   "id": "7f269824",
   "metadata": {},
   "outputs": [
    {
     "data": {
      "text/plain": [
       "10.2"
      ]
     },
     "execution_count": 6,
     "metadata": {},
     "output_type": "execute_result"
    }
   ],
   "source": [
    "i1"
   ]
  },
  {
   "cell_type": "code",
   "execution_count": 7,
   "id": "1cead9c5",
   "metadata": {},
   "outputs": [
    {
     "data": {
      "text/plain": [
       "60.2"
      ]
     },
     "execution_count": 7,
     "metadata": {},
     "output_type": "execute_result"
    }
   ],
   "source": [
    "a1"
   ]
  },
  {
   "cell_type": "code",
   "execution_count": 8,
   "id": "dce48b4e",
   "metadata": {},
   "outputs": [
    {
     "name": "stdout",
     "output_type": "stream",
     "text": [
      "Welcome User\n",
      "Function Results : (28400.0, 108400.0) \n",
      "Thank You\n"
     ]
    }
   ],
   "source": [
    "i2, a2 = simple_intrest(p=80_000, n=5, r=7.1)"
   ]
  },
  {
   "cell_type": "code",
   "execution_count": 9,
   "id": "2cc23b1a",
   "metadata": {},
   "outputs": [
    {
     "data": {
      "text/plain": [
       "28400.0"
      ]
     },
     "execution_count": 9,
     "metadata": {},
     "output_type": "execute_result"
    }
   ],
   "source": [
    "i2"
   ]
  },
  {
   "cell_type": "code",
   "execution_count": 10,
   "id": "21e995eb",
   "metadata": {},
   "outputs": [
    {
     "data": {
      "text/plain": [
       "108400.0"
      ]
     },
     "execution_count": 10,
     "metadata": {},
     "output_type": "execute_result"
    }
   ],
   "source": [
    "a2"
   ]
  },
  {
   "cell_type": "code",
   "execution_count": 11,
   "id": "f226c800",
   "metadata": {},
   "outputs": [],
   "source": [
    "import math"
   ]
  },
  {
   "cell_type": "code",
   "execution_count": 12,
   "id": "c7f44bca",
   "metadata": {},
   "outputs": [],
   "source": [
    "@welcome\n",
    "def hypotenuse(a: float, b: float) -> float:\n",
    "    c = math.sqrt(a**2 + b**2)\n",
    "    return c"
   ]
  },
  {
   "cell_type": "code",
   "execution_count": 13,
   "id": "8e72e6a6",
   "metadata": {},
   "outputs": [
    {
     "name": "stdout",
     "output_type": "stream",
     "text": [
      "Welcome User\n",
      "Function Results : 5.0 \n",
      "Thank You\n"
     ]
    }
   ],
   "source": [
    "h1 = hypotenuse(3, 4)"
   ]
  },
  {
   "cell_type": "code",
   "execution_count": 14,
   "id": "b9a0fe5e",
   "metadata": {},
   "outputs": [
    {
     "data": {
      "text/plain": [
       "5.0"
      ]
     },
     "execution_count": 14,
     "metadata": {},
     "output_type": "execute_result"
    }
   ],
   "source": [
    "h1"
   ]
  },
  {
   "cell_type": "code",
   "execution_count": 16,
   "id": "acb3750c",
   "metadata": {},
   "outputs": [
    {
     "name": "stdout",
     "output_type": "stream",
     "text": [
      "Welcome User\n",
      "Function Results : 18.062391868188442 \n",
      "Thank You\n"
     ]
    }
   ],
   "source": [
    "h2 = hypotenuse(a=12, b=13.5)"
   ]
  },
  {
   "cell_type": "code",
   "execution_count": 17,
   "id": "8d6edf79",
   "metadata": {},
   "outputs": [
    {
     "data": {
      "text/plain": [
       "18.062391868188442"
      ]
     },
     "execution_count": 17,
     "metadata": {},
     "output_type": "execute_result"
    }
   ],
   "source": [
    "h2"
   ]
  },
  {
   "cell_type": "markdown",
   "id": "67914836",
   "metadata": {},
   "source": [
    "## create a Decorator to Measure Time required to Execute"
   ]
  },
  {
   "cell_type": "code",
   "execution_count": 18,
   "id": "456df2c1",
   "metadata": {},
   "outputs": [
    {
     "name": "stdout",
     "output_type": "stream",
     "text": [
      "Hello\n"
     ]
    }
   ],
   "source": [
    "import time\n",
    "\n",
    "time.sleep(3)\n",
    "print(\"Hello\")"
   ]
  },
  {
   "cell_type": "markdown",
   "id": "076a28ff",
   "metadata": {},
   "source": [
    "## Measuring Time required to Execute"
   ]
  },
  {
   "cell_type": "code",
   "execution_count": null,
   "id": "ac065175",
   "metadata": {},
   "outputs": [
    {
     "name": "stdout",
     "output_type": "stream",
     "text": [
      "Test\n",
      "Test 2\n"
     ]
    }
   ],
   "source": [
    "# start measuring time\n",
    "start = time.perf_counter()\n",
    "time.sleep(2)\n",
    "print(\"Test\")\n",
    "time.sleep(3)\n",
    "print(\"Test 2\")\n",
    "\n",
    "# stop measuring Time\n",
    "stop = time.parf_counter()\n",
    "\n",
    "# Calculate elapsed Time\n",
    "elapsed = stop - start\n",
    "\n",
    "# Print Time Required\n",
    "#contiunue at 20:00 min\n"
   ]
  },
  {
   "cell_type": "markdown",
   "id": "78c4b714",
   "metadata": {},
   "source": [
    "# "
   ]
  }
 ],
 "metadata": {
  "kernelspec": {
   "display_name": "adv python",
   "language": "python",
   "name": "python3"
  },
  "language_info": {
   "codemirror_mode": {
    "name": "ipython",
    "version": 3
   },
   "file_extension": ".py",
   "mimetype": "text/x-python",
   "name": "python",
   "nbconvert_exporter": "python",
   "pygments_lexer": "ipython3",
   "version": "3.13.5"
  }
 },
 "nbformat": 4,
 "nbformat_minor": 5
}
