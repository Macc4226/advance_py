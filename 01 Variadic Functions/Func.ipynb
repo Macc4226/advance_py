{
 "cells": [
  {
   "cell_type": "markdown",
   "id": "41db868a",
   "metadata": {},
   "source": [
    "## Veridic Functions"
   ]
  },
  {
   "cell_type": "code",
   "execution_count": 38,
   "id": "a4c736b9",
   "metadata": {},
   "outputs": [],
   "source": [
    "def add(a: float | int, b: float | int) -> float | int:\n",
    "    \"\"\"\n",
    "    This function add 2 numbers\n",
    "    \"\"\"\n",
    "    c = a + b\n",
    "    return c"
   ]
  },
  {
   "cell_type": "code",
   "execution_count": 39,
   "id": "70ae8705",
   "metadata": {},
   "outputs": [
    {
     "name": "stdout",
     "output_type": "stream",
     "text": [
      "55\n"
     ]
    }
   ],
   "source": [
    "a2 = add(23, 32)\n",
    "print(a2)"
   ]
  },
  {
   "cell_type": "code",
   "execution_count": 40,
   "id": "6af4df6d",
   "metadata": {},
   "outputs": [
    {
     "name": "stdout",
     "output_type": "stream",
     "text": [
      "7\n"
     ]
    }
   ],
   "source": [
    "# Positional Argument\n",
    "a1 = add(3, 4)\n",
    "print(a1)"
   ]
  },
  {
   "cell_type": "code",
   "execution_count": 7,
   "id": "cf022aba",
   "metadata": {},
   "outputs": [
    {
     "name": "stdout",
     "output_type": "stream",
     "text": [
      "57.5\n"
     ]
    }
   ],
   "source": [
    "# keyword Argument\n",
    "a2 = add(a=23, b=34.5)\n",
    "print(a2)"
   ]
  },
  {
   "cell_type": "markdown",
   "id": "7c2a1380",
   "metadata": {},
   "source": [
    "### Variadic Functions - Functions with flexible input numbers\n",
    "*args - Positional Arguments - acts like a tuple in Python"
   ]
  },
  {
   "cell_type": "code",
   "execution_count": 8,
   "id": "28b5ec6d",
   "metadata": {},
   "outputs": [],
   "source": [
    "def function1(*args):\n",
    "    print(args)\n",
    "    print(f\"Type of args : {type(args)}\")\n",
    "    for i in args:\n",
    "        print(i)"
   ]
  },
  {
   "cell_type": "code",
   "execution_count": 41,
   "id": "b5586a9c",
   "metadata": {},
   "outputs": [
    {
     "name": "stdout",
     "output_type": "stream",
     "text": [
      "(1, 2)\n",
      "Type of args : <class 'tuple'>\n",
      "1\n",
      "2\n"
     ]
    }
   ],
   "source": [
    "function1(1, 2)"
   ]
  },
  {
   "cell_type": "code",
   "execution_count": 10,
   "id": "3ffc6e58",
   "metadata": {},
   "outputs": [
    {
     "name": "stdout",
     "output_type": "stream",
     "text": [
      "('Manthan', True, 32.5, 45, 'macc')\n",
      "Type of args : <class 'tuple'>\n",
      "Manthan\n",
      "True\n",
      "32.5\n",
      "45\n",
      "macc\n"
     ]
    }
   ],
   "source": [
    "function1(\"Manthan\", True, 32.5, 45, \"macc\")"
   ]
  },
  {
   "cell_type": "code",
   "execution_count": 11,
   "id": "ab0af1fd",
   "metadata": {},
   "outputs": [
    {
     "name": "stdout",
     "output_type": "stream",
     "text": [
      "('a',)\n",
      "Type of args : <class 'tuple'>\n",
      "a\n"
     ]
    }
   ],
   "source": [
    "function1(\"a\")"
   ]
  },
  {
   "cell_type": "code",
   "execution_count": 12,
   "id": "db6bab9e",
   "metadata": {},
   "outputs": [
    {
     "data": {
      "text/plain": [
       "list"
      ]
     },
     "execution_count": 12,
     "metadata": {},
     "output_type": "execute_result"
    }
   ],
   "source": [
    "b = [\"example\", 1, 2, False]\n",
    "type(b)"
   ]
  },
  {
   "cell_type": "code",
   "execution_count": 13,
   "id": "28ce9965",
   "metadata": {},
   "outputs": [
    {
     "name": "stdout",
     "output_type": "stream",
     "text": [
      "('example', 1, 2, False)\n",
      "Type of args : <class 'tuple'>\n",
      "example\n",
      "1\n",
      "2\n",
      "False\n"
     ]
    }
   ],
   "source": [
    "# unpack and pass list\n",
    "function1(*b)"
   ]
  },
  {
   "cell_type": "code",
   "execution_count": 14,
   "id": "f00c7c32",
   "metadata": {},
   "outputs": [],
   "source": [
    "def add_multiple(*args):\n",
    "    # Initialise sum to 0\n",
    "    s = 0\n",
    "    # Apply for loop on args\n",
    "    for i in args:\n",
    "        s = s + i\n",
    "    # Return the value of s\n",
    "    return s"
   ]
  },
  {
   "cell_type": "code",
   "execution_count": 15,
   "id": "791a2833",
   "metadata": {},
   "outputs": [
    {
     "data": {
      "text/plain": [
       "26"
      ]
     },
     "execution_count": 15,
     "metadata": {},
     "output_type": "execute_result"
    }
   ],
   "source": [
    "1 + 2 + 5 + 8 + 4 + 6"
   ]
  },
  {
   "cell_type": "code",
   "execution_count": 16,
   "id": "b27322f2",
   "metadata": {},
   "outputs": [
    {
     "data": {
      "text/plain": [
       "26"
      ]
     },
     "execution_count": 16,
     "metadata": {},
     "output_type": "execute_result"
    }
   ],
   "source": [
    "s1 = add_multiple(1, 2, 5, 8, 4, 6)\n",
    "s1"
   ]
  },
  {
   "cell_type": "code",
   "execution_count": 42,
   "id": "f8ac03e9",
   "metadata": {},
   "outputs": [
    {
     "name": "stdout",
     "output_type": "stream",
     "text": [
      "15.5\n"
     ]
    }
   ],
   "source": [
    "s2 = add_multiple(4, 11.5)\n",
    "print(s2)"
   ]
  },
  {
   "cell_type": "code",
   "execution_count": 18,
   "id": "c24c9761",
   "metadata": {},
   "outputs": [
    {
     "name": "stdout",
     "output_type": "stream",
     "text": [
      "127\n"
     ]
    }
   ],
   "source": [
    "nums = [23, 42, 11, 12, 19, 20]\n",
    "s4 = add_multiple(*nums)\n",
    "print(s4)"
   ]
  },
  {
   "cell_type": "code",
   "execution_count": 19,
   "id": "3798b138",
   "metadata": {},
   "outputs": [
    {
     "name": "stdout",
     "output_type": "stream",
     "text": [
      "473\n"
     ]
    }
   ],
   "source": [
    "s3 = add_multiple(34, 11, 12, 145, 122, 125, 11, 13)\n",
    "print(s3)"
   ]
  },
  {
   "cell_type": "code",
   "execution_count": 44,
   "id": "8c56c8f3",
   "metadata": {},
   "outputs": [
    {
     "name": "stdout",
     "output_type": "stream",
     "text": [
      "[1, 2, 3, 4, 5, 6, 7, 8, 9, 10, 11, 12, 13, 14, 15, 16, 17, 18, 19, 20, 21, 22, 23, 24, 25, 26, 27, 28, 29, 30, 31, 32, 33, 34, 35, 36, 37, 38, 39, 40, 41, 42, 43, 44, 45, 46, 47, 48, 49, 50, 51, 52, 53, 54, 55, 56, 57, 58, 59, 60, 61, 62, 63, 64, 65, 66, 67, 68, 69, 70, 71, 72, 73, 74, 75, 76, 77, 78, 79, 80, 81, 82, 83, 84, 85, 86, 87, 88, 89, 90, 91, 92, 93, 94, 95, 96, 97, 98, 99, 100]\n"
     ]
    }
   ],
   "source": [
    "a = list(range(1, 101))\n",
    "print(a)"
   ]
  },
  {
   "cell_type": "code",
   "execution_count": 21,
   "id": "47e31639",
   "metadata": {},
   "outputs": [
    {
     "name": "stdout",
     "output_type": "stream",
     "text": [
      "499500\n"
     ]
    }
   ],
   "source": [
    "s4 = add_multiple(*a)\n",
    "print(s4)"
   ]
  },
  {
   "cell_type": "markdown",
   "id": "c364f23a",
   "metadata": {},
   "source": [
    "# Keyword Agruments\n",
    "**kwargs - This acts like a Dictionary in Python"
   ]
  },
  {
   "cell_type": "code",
   "execution_count": 22,
   "id": "04fb954e",
   "metadata": {},
   "outputs": [],
   "source": [
    "def function2(**kwargs):\n",
    "    print(kwargs)\n",
    "    print(f\"Types of kwargs : {type(kwargs)}\")\n",
    "    for key, value in kwargs.items():\n",
    "        print(f\"key : {key}, Value : {value}\")"
   ]
  },
  {
   "cell_type": "code",
   "execution_count": 23,
   "id": "5e960b1a",
   "metadata": {},
   "outputs": [
    {
     "name": "stdout",
     "output_type": "stream",
     "text": [
      "{'name': 'Manthan', 'age': 26}\n",
      "Types of kwargs : <class 'dict'>\n",
      "key : name, Value : Manthan\n",
      "key : age, Value : 26\n"
     ]
    }
   ],
   "source": [
    "function2(name=\"Manthan\", age=26)"
   ]
  },
  {
   "cell_type": "code",
   "execution_count": 24,
   "id": "537a4972",
   "metadata": {},
   "outputs": [
    {
     "name": "stdout",
     "output_type": "stream",
     "text": [
      "{'name': 'Aditi', 'age': 22, 'city': 'Pune', 'married': False}\n",
      "Types of kwargs : <class 'dict'>\n",
      "key : name, Value : Aditi\n",
      "key : age, Value : 22\n",
      "key : city, Value : Pune\n",
      "key : married, Value : False\n"
     ]
    }
   ],
   "source": [
    "function2(name=\"Aditi\", age=22, city=\"Pune\", married=False)"
   ]
  },
  {
   "cell_type": "code",
   "execution_count": 25,
   "id": "71c93db2",
   "metadata": {},
   "outputs": [],
   "source": [
    "def function3(*args, **kwargs):\n",
    "    # Args\n",
    "    print(args)\n",
    "    print(f\"Type of args : {type(args)}\")\n",
    "    for i in args:\n",
    "        print(i)\n",
    "\n",
    "    # kwargs\n",
    "    print(kwargs)\n",
    "    print(f\"Type of kwargs : {type(kwargs)}\")\n",
    "    for key, value in kwargs.items():\n",
    "        print(f\"key : {key}, value: {value}\")"
   ]
  },
  {
   "cell_type": "code",
   "execution_count": 26,
   "id": "6c096684",
   "metadata": {},
   "outputs": [
    {
     "name": "stdout",
     "output_type": "stream",
     "text": [
      "(1, 2, 3, 4, 5, 6)\n",
      "Type of args : <class 'tuple'>\n",
      "1\n",
      "2\n",
      "3\n",
      "4\n",
      "5\n",
      "6\n",
      "{}\n",
      "Type of kwargs : <class 'dict'>\n"
     ]
    }
   ],
   "source": [
    "function3(1, 2, 3, 4, 5, 6)"
   ]
  },
  {
   "cell_type": "code",
   "execution_count": 27,
   "id": "e7c7ab8a",
   "metadata": {},
   "outputs": [
    {
     "name": "stdout",
     "output_type": "stream",
     "text": [
      "()\n",
      "Type of args : <class 'tuple'>\n",
      "{'a': 3, 'b': 13, 'c': 14}\n",
      "Type of kwargs : <class 'dict'>\n",
      "key : a, value: 3\n",
      "key : b, value: 13\n",
      "key : c, value: 14\n"
     ]
    }
   ],
   "source": [
    "function3(a=3, b=13, c=14)"
   ]
  },
  {
   "cell_type": "code",
   "execution_count": 28,
   "id": "089425cf",
   "metadata": {},
   "outputs": [
    {
     "name": "stdout",
     "output_type": "stream",
     "text": [
      "('a', 'b', 'c')\n",
      "Type of args : <class 'tuple'>\n",
      "a\n",
      "b\n",
      "c\n",
      "{'name': 'manthan', 'age': 26, 'cont': 9762153743}\n",
      "Type of kwargs : <class 'dict'>\n",
      "key : name, value: manthan\n",
      "key : age, value: 26\n",
      "key : cont, value: 9762153743\n"
     ]
    }
   ],
   "source": [
    "function3(\"a\", \"b\", \"c\", name=\"manthan\", age=26, cont=9762153743)"
   ]
  },
  {
   "cell_type": "markdown",
   "id": "106937ad",
   "metadata": {},
   "source": [
    "##  want flexibly store info of a user"
   ]
  },
  {
   "cell_type": "code",
   "execution_count": 29,
   "id": "9a2d7f22",
   "metadata": {},
   "outputs": [],
   "source": [
    "def create_user(**kwargs):\n",
    "    user = {\n",
    "        \"name\": None,\n",
    "        \"age\": None,\n",
    "        \"city\": None,\n",
    "    }\n",
    "    user.update(kwargs)\n",
    "    return user"
   ]
  },
  {
   "cell_type": "code",
   "execution_count": 30,
   "id": "3f25af63",
   "metadata": {},
   "outputs": [
    {
     "data": {
      "text/plain": [
       "{'name': None, 'age': None, 'city': None}"
      ]
     },
     "execution_count": 30,
     "metadata": {},
     "output_type": "execute_result"
    }
   ],
   "source": [
    "create_user()"
   ]
  },
  {
   "cell_type": "code",
   "execution_count": 31,
   "id": "3a022965",
   "metadata": {},
   "outputs": [
    {
     "name": "stdout",
     "output_type": "stream",
     "text": [
      "{'name': 'Sarthak', 'age': 26, 'city': None}\n"
     ]
    }
   ],
   "source": [
    "u1 = create_user(name=\"Sarthak\", age=26)\n",
    "print(u1)"
   ]
  },
  {
   "cell_type": "code",
   "execution_count": 32,
   "id": "3763472e",
   "metadata": {},
   "outputs": [
    {
     "data": {
      "text/plain": [
       "{'name': 'Aditi', 'age': 22, 'city': 'Pune'}"
      ]
     },
     "execution_count": 32,
     "metadata": {},
     "output_type": "execute_result"
    }
   ],
   "source": [
    "u2 = create_user(name=\"Aditi\", age=22, city=\"Pune\")\n",
    "u2"
   ]
  },
  {
   "cell_type": "code",
   "execution_count": 33,
   "id": "2e94b8bc",
   "metadata": {},
   "outputs": [
    {
     "name": "stdout",
     "output_type": "stream",
     "text": [
      "{'name': 'Manthan', 'age': None, 'city': 'mumbai', 'email': 'manthan.m4226@gmail.com', 'contact': 9762153743}\n"
     ]
    }
   ],
   "source": [
    "u2 = create_user(\n",
    "    name=\"Manthan\",\n",
    "    city=\"mumbai\",\n",
    "    email=\"manthan.m4226@gmail.com\",\n",
    "    contact=9762153743,\n",
    ")\n",
    "print(u2)"
   ]
  },
  {
   "cell_type": "code",
   "execution_count": 37,
   "id": "c011828d",
   "metadata": {},
   "outputs": [
    {
     "name": "stdout",
     "output_type": "stream",
     "text": [
      "{'name': 'Rahul', 'age': 25, 'city': 'Pune', 'email': 'rahul@test.com', 'contcat': 9878464}\n"
     ]
    }
   ],
   "source": [
    "u3 = create_user(\n",
    "    name=\"Rahul\", age=25, city=\"Pune\", email=\"rahul@test.com\", contcat=9878464\n",
    ")\n",
    "print(u3)"
   ]
  },
  {
   "cell_type": "code",
   "execution_count": 36,
   "id": "3827e6ee",
   "metadata": {},
   "outputs": [
    {
     "name": "stdout",
     "output_type": "stream",
     "text": [
      "{'name': 'Aditi', 'age': None, 'city': 'Nashik', 'email': 'aditi@test.com'}\n"
     ]
    }
   ],
   "source": [
    "u4 = create_user(name=\"Aditi\", city=\"Nashik\", email=\"aditi@test.com\")\n",
    "print(u4)"
   ]
  },
  {
   "cell_type": "code",
   "execution_count": null,
   "id": "4878256d",
   "metadata": {},
   "outputs": [],
   "source": []
  }
 ],
 "metadata": {
  "kernelspec": {
   "display_name": "adv python",
   "language": "python",
   "name": "python3"
  },
  "language_info": {
   "codemirror_mode": {
    "name": "ipython",
    "version": 3
   },
   "file_extension": ".py",
   "mimetype": "text/x-python",
   "name": "python",
   "nbconvert_exporter": "python",
   "pygments_lexer": "ipython3",
   "version": "3.13.5"
  }
 },
 "nbformat": 4,
 "nbformat_minor": 5
}
