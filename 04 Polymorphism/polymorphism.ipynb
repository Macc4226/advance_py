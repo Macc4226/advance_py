{
 "cells": [
  {
   "cell_type": "markdown",
   "id": "4588c13e",
   "metadata": {},
   "source": [
    "# Polymorphism\n",
    "\n",
    "1. Polymorphism in functions --> Multiple classes i can apply same function\n",
    "2. Polymorphism in operators --> Different classes can use +, -, *, /\n",
    "3. Polymorphism in classes --> Two or more than two classes can have same methods"
   ]
  },
  {
   "attachments": {
    "image.png": {
     "image/png": "[encoded data removed]"
    }
   },
   "cell_type": "markdown",
   "id": "cf66e17c",
   "metadata": {},
   "source": [
    "![image.png](attachment:image.png)"
   ]
  },
  {
   "cell_type": "code",
   "execution_count": 55,
   "id": "a7ff310a",
   "metadata": {},
   "outputs": [
    {
     "name": "stdout",
     "output_type": "stream",
     "text": [
      "<class 'str'>\n",
      "7\n"
     ]
    }
   ],
   "source": [
    "a = \"Manthan\"\n",
    "print(type(a))\n",
    "print(len(a))"
   ]
  },
  {
   "cell_type": "code",
   "execution_count": 56,
   "id": "c6b0b17a",
   "metadata": {},
   "outputs": [
    {
     "name": "stdout",
     "output_type": "stream",
     "text": [
      "<class 'list'>\n",
      "9\n"
     ]
    }
   ],
   "source": [
    "b = [2, 6, 5, 5, 9, 8, 8, 7, 6]\n",
    "print(type(b))\n",
    "print(len(b))"
   ]
  },
  {
   "cell_type": "code",
   "execution_count": 57,
   "id": "1a9dea46",
   "metadata": {},
   "outputs": [
    {
     "name": "stdout",
     "output_type": "stream",
     "text": [
      "<class 'tuple'>\n",
      "4\n"
     ]
    }
   ],
   "source": [
    "c = (3, 4, 5, 6)\n",
    "print(type(c))\n",
    "print(len(c))"
   ]
  },
  {
   "cell_type": "code",
   "execution_count": 58,
   "id": "616fb01b",
   "metadata": {},
   "outputs": [
    {
     "name": "stdout",
     "output_type": "stream",
     "text": [
      "<class 'dict'>\n",
      "4\n"
     ]
    }
   ],
   "source": [
    "d = {\"a\": 1, \"b\": 2, \"c\": 3, \"d\": 4}\n",
    "print(type(d))\n",
    "print(len(d))"
   ]
  },
  {
   "cell_type": "markdown",
   "id": "91ec173c",
   "metadata": {},
   "source": [
    "# Polymorphism in Operators"
   ]
  },
  {
   "cell_type": "code",
   "execution_count": 59,
   "id": "431260f9",
   "metadata": {},
   "outputs": [
    {
     "name": "stdout",
     "output_type": "stream",
     "text": [
      "7\n",
      "12\n"
     ]
    }
   ],
   "source": [
    "a = 3\n",
    "b = 4\n",
    "print(a + b)\n",
    "print(a * b)"
   ]
  },
  {
   "cell_type": "code",
   "execution_count": 60,
   "id": "19d99d7b",
   "metadata": {},
   "outputs": [
    {
     "name": "stdout",
     "output_type": "stream",
     "text": [
      "7.9\n",
      "15.299999999999999\n"
     ]
    }
   ],
   "source": [
    "a = 3.4\n",
    "b = 4.5\n",
    "print(a + b)\n",
    "print(a * b)"
   ]
  },
  {
   "cell_type": "code",
   "execution_count": 61,
   "id": "18ee8517",
   "metadata": {},
   "outputs": [
    {
     "name": "stdout",
     "output_type": "stream",
     "text": [
      "Example test \n",
      "test Example \n"
     ]
    }
   ],
   "source": [
    "# \"+\" on string means concatenate or combine strings\n",
    "a = \"Example \"\n",
    "b = \"test \"\n",
    "print(a + b)\n",
    "print(b + a)"
   ]
  },
  {
   "cell_type": "code",
   "execution_count": 62,
   "id": "d2169949",
   "metadata": {},
   "outputs": [
    {
     "name": "stdout",
     "output_type": "stream",
     "text": [
      "[1, 2, 3, 4, 5, 6, 7, 8]\n",
      "[5, 6, 7, 8, 1, 2, 3, 4]\n"
     ]
    }
   ],
   "source": [
    "# + on list can merge 2 lists\n",
    "a = [1, 2, 3, 4]\n",
    "b = [5, 6, 7, 8]\n",
    "print(a + b)\n",
    "print(b + a)"
   ]
  },
  {
   "cell_type": "code",
   "execution_count": 63,
   "id": "6596d66e",
   "metadata": {},
   "outputs": [
    {
     "name": "stdout",
     "output_type": "stream",
     "text": [
      "Example Example Example \n"
     ]
    }
   ],
   "source": [
    "# a*3 = a + a + a\n",
    "a = \"Example \"\n",
    "print(a * 3)"
   ]
  },
  {
   "cell_type": "code",
   "execution_count": 64,
   "id": "e504fc39",
   "metadata": {},
   "outputs": [
    {
     "name": "stdout",
     "output_type": "stream",
     "text": [
      "[4, 5, 6, 4, 5, 6, 4, 5, 6]\n"
     ]
    }
   ],
   "source": [
    "a = [4, 5, 6]\n",
    "print(a * 3)"
   ]
  },
  {
   "cell_type": "markdown",
   "id": "5a4a3838",
   "metadata": {},
   "source": [
    "## Polymorphism in classes"
   ]
  },
  {
   "cell_type": "code",
   "execution_count": 65,
   "id": "4277729b",
   "metadata": {},
   "outputs": [],
   "source": [
    "class India:\n",
    "\n",
    "    def capital(self):\n",
    "        print(\"New Delhi is Capital of India\")\n",
    "\n",
    "    def language(self):\n",
    "        print(\"Hindi is widely spoken in India\")"
   ]
  },
  {
   "cell_type": "code",
   "execution_count": 66,
   "id": "350cabd2",
   "metadata": {},
   "outputs": [],
   "source": [
    "class USA:\n",
    "    def capital(self):\n",
    "        print(\"Washington D.C is capital of USA \")\n",
    "\n",
    "    def language(self):\n",
    "        print(\"English is widely spoken in USA\")"
   ]
  },
  {
   "cell_type": "code",
   "execution_count": 67,
   "id": "daee4591",
   "metadata": {},
   "outputs": [],
   "source": [
    "class france:\n",
    "\n",
    "    def capital(self):\n",
    "        print(\"Paris is Capital of France\")\n",
    "\n",
    "    def language(self):\n",
    "        print(\"French is widely spoken in France\")"
   ]
  },
  {
   "cell_type": "code",
   "execution_count": 68,
   "id": "127710f9",
   "metadata": {},
   "outputs": [
    {
     "name": "stdout",
     "output_type": "stream",
     "text": [
      "<class '__main__.India'>\n",
      "New Delhi is Capital of India\n",
      "Hindi is widely spoken in India\n"
     ]
    }
   ],
   "source": [
    "c1 = India()\n",
    "print(type(c1))\n",
    "c1.capital()\n",
    "c1.language()"
   ]
  },
  {
   "cell_type": "code",
   "execution_count": 69,
   "id": "697325ec",
   "metadata": {},
   "outputs": [
    {
     "name": "stdout",
     "output_type": "stream",
     "text": [
      "<class '__main__.USA'>\n",
      "Washington D.C is capital of USA \n",
      "English is widely spoken in USA\n"
     ]
    }
   ],
   "source": [
    "c2 = USA()\n",
    "print(type(c2))\n",
    "c2.capital()\n",
    "c2.language()"
   ]
  },
  {
   "cell_type": "code",
   "execution_count": 70,
   "id": "68c8cb35",
   "metadata": {},
   "outputs": [
    {
     "name": "stdout",
     "output_type": "stream",
     "text": [
      "<class '__main__.france'>\n",
      "Paris is Capital of France\n",
      "French is widely spoken in France\n"
     ]
    }
   ],
   "source": [
    "c3 = france()\n",
    "print(type(c3))\n",
    "c3.capital()\n",
    "c3.language()"
   ]
  },
  {
   "cell_type": "code",
   "execution_count": 71,
   "id": "54a6d86d",
   "metadata": {},
   "outputs": [
    {
     "name": "stdout",
     "output_type": "stream",
     "text": [
      "<class '__main__.India'>\n",
      "New Delhi is Capital of India\n",
      "Hindi is widely spoken in India\n",
      "<class '__main__.USA'>\n",
      "Washington D.C is capital of USA \n",
      "English is widely spoken in USA\n",
      "<class '__main__.france'>\n",
      "Paris is Capital of France\n",
      "French is widely spoken in France\n"
     ]
    }
   ],
   "source": [
    "c = [India(), USA(), france()]\n",
    "\n",
    "for i in c:\n",
    "    print(type(i))\n",
    "    i.capital()\n",
    "    i.language()"
   ]
  },
  {
   "cell_type": "markdown",
   "id": "6e57510a",
   "metadata": {},
   "source": [
    "## Apply Polymorphism for calculating shape, area and Perimeter\n",
    "1. Rectangle\n",
    "2. Circle"
   ]
  },
  {
   "cell_type": "code",
   "execution_count": 77,
   "id": "54daeb85",
   "metadata": {},
   "outputs": [],
   "source": [
    "from dataclasses import dataclass"
   ]
  },
  {
   "cell_type": "code",
   "execution_count": 81,
   "id": "1eb8b8f6",
   "metadata": {},
   "outputs": [
    {
     "data": {
      "text/plain": [
       "3.141592653589793"
      ]
     },
     "execution_count": 81,
     "metadata": {},
     "output_type": "execute_result"
    }
   ],
   "source": [
    "import math\n",
    "\n",
    "math.pi"
   ]
  },
  {
   "cell_type": "code",
   "execution_count": 117,
   "id": "e2d23db9",
   "metadata": {},
   "outputs": [],
   "source": [
    "@dataclass\n",
    "class Rectangle:\n",
    "    length: int | float\n",
    "    height: int | float\n",
    "\n",
    "    def perimeter(self) -> int | float:\n",
    "        p = 2 * (self.length + self.height)\n",
    "        return p\n",
    "\n",
    "    def area(self) -> int | float:\n",
    "        a = self.length * self.height\n",
    "\n",
    "        return a"
   ]
  },
  {
   "cell_type": "code",
   "execution_count": 118,
   "id": "f7dc8e2c",
   "metadata": {},
   "outputs": [],
   "source": [
    "@dataclass\n",
    "class Circle:\n",
    "    radius: int | float\n",
    "\n",
    "    def perimeter(self):\n",
    "        p = 2 * math.pi * self.radius\n",
    "        return p\n",
    "\n",
    "    def area(self):\n",
    "        a = math.pi * (self.radius**2)\n",
    "        return a"
   ]
  },
  {
   "cell_type": "code",
   "execution_count": 119,
   "id": "d22a1f8f",
   "metadata": {},
   "outputs": [],
   "source": [
    "@dataclass\n",
    "class Triangle:\n",
    "    a: int | float\n",
    "    b: int | float\n",
    "    c: int | float\n",
    "\n",
    "    def __post_init__(self):\n",
    "        if self.a <= 0 or self.b <= 0 or self.c <= 0:\n",
    "            raise ValueError(\"Sides of triangle cannot be Negative\")\n",
    "        if not self.is_triangle():\n",
    "            raise ValueError(\n",
    "                \"Given sides do not form a triangle, Sum of two sides should be greater than third\"\n",
    "            )\n",
    "\n",
    "    def is_triangle(self) -> bool:\n",
    "        return (\n",
    "            (self.a + self.b > self.c)\n",
    "            and (self.b + self.c > self.a)\n",
    "            and (self.c + self.a > self.b)\n",
    "        )\n",
    "\n",
    "    def perimeter(self) -> int | float:\n",
    "        return self.a + self.b + self.c\n",
    "\n",
    "    def area(self) -> int | float:\n",
    "        s = self.perimeter() / 2\n",
    "        a = math.sqrt(s * (s - self.a) * (s - self.b) * (s - self.c))\n",
    "        return a"
   ]
  },
  {
   "cell_type": "code",
   "execution_count": 120,
   "id": "ecd55d75",
   "metadata": {},
   "outputs": [
    {
     "name": "stdout",
     "output_type": "stream",
     "text": [
      "Rectangle(length=12, height=20)\n",
      "<class '__main__.Rectangle'>\n",
      "64\n",
      "240\n"
     ]
    }
   ],
   "source": [
    "r1 = Rectangle(length=12, height=20)\n",
    "print(r1)\n",
    "print(type(r1))\n",
    "print(r1.perimeter())\n",
    "print(r1.area())"
   ]
  },
  {
   "cell_type": "code",
   "execution_count": 121,
   "id": "203d8e06",
   "metadata": {},
   "outputs": [
    {
     "name": "stdout",
     "output_type": "stream",
     "text": [
      "Circle(radius=14)\n",
      "<class '__main__.Circle'>\n",
      "87.96459430051421\n",
      "615.7521601035994\n"
     ]
    }
   ],
   "source": [
    "c1 = Circle(radius=14)\n",
    "print(c1)\n",
    "print(type(c1))\n",
    "print(c1.perimeter())\n",
    "print(c1.area())"
   ]
  },
  {
   "cell_type": "code",
   "execution_count": 122,
   "id": "28980491",
   "metadata": {},
   "outputs": [
    {
     "name": "stdout",
     "output_type": "stream",
     "text": [
      "Triangle(a=4, b=5, c=6)\n",
      "<class '__main__.Triangle'>\n",
      "15\n",
      "9.921567416492215\n"
     ]
    }
   ],
   "source": [
    "t1 = Triangle(a=4, b=5, c=6)\n",
    "print(t1)\n",
    "print(type(t1))\n",
    "print(t1.perimeter())\n",
    "print(t1.area())"
   ]
  },
  {
   "cell_type": "code",
   "execution_count": 124,
   "id": "5b7cb52b",
   "metadata": {},
   "outputs": [],
   "source": [
    "shapes = [\n",
    "    Rectangle(length=4, height=5),\n",
    "    Circle(radius=20),\n",
    "    Triangle(a=4, b=6, c=7),\n",
    "    Circle(radius=24),\n",
    "    Rectangle(length=10, height=5),\n",
    "]"
   ]
  },
  {
   "cell_type": "code",
   "execution_count": 126,
   "id": "2414a29c",
   "metadata": {},
   "outputs": [
    {
     "data": {
      "text/plain": [
       "[Rectangle(length=4, height=5),\n",
       " Circle(radius=20),\n",
       " Triangle(a=4, b=6, c=7),\n",
       " Circle(radius=24),\n",
       " Rectangle(length=10, height=5)]"
      ]
     },
     "execution_count": 126,
     "metadata": {},
     "output_type": "execute_result"
    }
   ],
   "source": [
    "shapes"
   ]
  },
  {
   "cell_type": "code",
   "execution_count": 133,
   "id": "7e2120c8",
   "metadata": {},
   "outputs": [
    {
     "name": "stdout",
     "output_type": "stream",
     "text": [
      "Rectangle(length=4, height=5)\n",
      "Perimeter : 18.00\n",
      "area20.00\n",
      "Circle(radius=20)\n",
      "Perimeter : 125.66\n",
      "area1256.64\n",
      "Triangle(a=4, b=6, c=7)\n",
      "Perimeter : 17.00\n",
      "area11.98\n",
      "Circle(radius=24)\n",
      "Perimeter : 150.80\n",
      "area1809.56\n",
      "Rectangle(length=10, height=5)\n",
      "Perimeter : 30.00\n",
      "area50.00\n"
     ]
    }
   ],
   "source": [
    "for i in shapes:\n",
    "    print(i)\n",
    "    p = i.perimeter()\n",
    "    a = i.area()\n",
    "    print(f\"Perimeter : {p:.2f}\")\n",
    "    print(f\"area{a:.2f}\")"
   ]
  },
  {
   "cell_type": "markdown",
   "id": "47e650e4",
   "metadata": {},
   "source": [
    "## Different tax Calculation for Different Entities"
   ]
  },
  {
   "cell_type": "code",
   "execution_count": null,
   "id": "08f33082",
   "metadata": {},
   "outputs": [],
   "source": []
  },
  {
   "cell_type": "code",
   "execution_count": 135,
   "id": "3fc14bf0",
   "metadata": {},
   "outputs": [],
   "source": [
    "@dataclass\n",
    "class IndvidualTax:\n",
    "    income: int\n",
    "\n",
    "    def calculate_tax(self):\n",
    "        if self.income <= 2_50_000:\n",
    "            tax = 0\n",
    "        elif self.income > 2_50_000 and self.income <= 5_00_000:\n",
    "            tax = (self.income - 2_50_000) * 0.10\n",
    "        elif self.income > 5_00_000 and self.income <= 10_00_000:\n",
    "            tax = (2_50_000 * 0.10) + (self.income - 5_00_000) * 0.20\n",
    "        else:\n",
    "            tax = (\n",
    "                (2_50_000 * 0.10) + (5_00_000 * 0.20) + (self.income - 10_00_000) * 0.25\n",
    "            )\n",
    "        return tax"
   ]
  },
  {
   "cell_type": "code",
   "execution_count": 141,
   "id": "485679b4",
   "metadata": {},
   "outputs": [],
   "source": [
    "@dataclass\n",
    "class CorporateTax:\n",
    "    income: int\n",
    "\n",
    "    def calculate_tax(self):\n",
    "        tax = 0.3 * self.income\n",
    "        surcharge = tax * 0.04\n",
    "        total = tax + surcharge\n",
    "        return total"
   ]
  },
  {
   "cell_type": "code",
   "execution_count": 142,
   "id": "db70a3e6",
   "metadata": {},
   "outputs": [
    {
     "data": {
      "text/plain": [
       "10000.0"
      ]
     },
     "execution_count": 142,
     "metadata": {},
     "output_type": "execute_result"
    }
   ],
   "source": [
    "a = IndvidualTax(income=3_50_000)\n",
    "a.calculate_tax()"
   ]
  },
  {
   "cell_type": "code",
   "execution_count": 143,
   "id": "248e2f75",
   "metadata": {},
   "outputs": [
    {
     "data": {
      "text/plain": [
       "1716000.0"
      ]
     },
     "execution_count": 143,
     "metadata": {},
     "output_type": "execute_result"
    }
   ],
   "source": [
    "b = CorporateTax(income=55_00_000)\n",
    "b.calculate_tax()"
   ]
  },
  {
   "cell_type": "code",
   "execution_count": 146,
   "id": "95c52487",
   "metadata": {},
   "outputs": [],
   "source": [
    "taxes = [\n",
    "    IndvidualTax(income=2_00_000),\n",
    "    CorporateTax(income=15_00_000),\n",
    "    CorporateTax(income=10_00_000),\n",
    "    IndvidualTax(income=15_00_000),\n",
    "]"
   ]
  },
  {
   "cell_type": "code",
   "execution_count": 148,
   "id": "279127ed",
   "metadata": {},
   "outputs": [
    {
     "name": "stdout",
     "output_type": "stream",
     "text": [
      "IndvidualTax(income=200000)\n",
      "tax : 0.00\n",
      "CorporateTax(income=1500000)\n",
      "tax : 468000.00\n",
      "CorporateTax(income=1000000)\n",
      "tax : 312000.00\n",
      "IndvidualTax(income=1500000)\n",
      "tax : 250000.00\n"
     ]
    }
   ],
   "source": [
    "for i in taxes:\n",
    "    print(i)\n",
    "    tax = i.calculate_tax()\n",
    "\n",
    "    print(f\"tax : {tax:.2f}\")"
   ]
  },
  {
   "cell_type": "code",
   "execution_count": null,
   "id": "d1f53107",
   "metadata": {},
   "outputs": [],
   "source": []
  }
 ],
 "metadata": {
  "kernelspec": {
   "display_name": "adv python",
   "language": "python",
   "name": "python3"
  },
  "language_info": {
   "codemirror_mode": {
    "name": "ipython",
    "version": 3
   },
   "file_extension": ".py",
   "mimetype": "text/x-python",
   "name": "python",
   "nbconvert_exporter": "python",
   "pygments_lexer": "ipython3",
   "version": "3.13.5"
  }
 },
 "nbformat": 4,
 "nbformat_minor": 5
}
